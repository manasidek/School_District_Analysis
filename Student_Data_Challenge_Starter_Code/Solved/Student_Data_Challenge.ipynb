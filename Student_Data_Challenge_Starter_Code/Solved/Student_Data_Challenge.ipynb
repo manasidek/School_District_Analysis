{
 "cells": [
  {
   "cell_type": "markdown",
   "id": "33587071-1d0b-4413-8afd-66edc4a6b727",
   "metadata": {},
   "source": [
    "### Import required dependencies"
   ]
  },
  {
   "cell_type": "code",
   "execution_count": 1,
   "id": "5f872ae2-653d-461b-b65c-8f5a4578c1ad",
   "metadata": {
    "tags": []
   },
   "outputs": [],
   "source": [
    "import pandas as pd\n",
    "import os"
   ]
  },
  {
   "cell_type": "markdown",
   "id": "ed932aaf-57a8-4045-b489-ff438b795146",
   "metadata": {},
   "source": [
    "## Deliverable 1: Collect the Data\n",
    "\n",
    "To collect the data that you’ll need, complete the following steps:\n",
    "\n",
    "1. Using the Pandas `read_csv` function and the `os` module, import the data from the `new_full_student_data.csv` file, and create a DataFrame called student_df. \n",
    "\n",
    "2. Use the head function to confirm that Pandas properly imported the data.\n"
   ]
  },
  {
   "cell_type": "code",
   "execution_count": 2,
   "id": "682f8285-aae8-4b4f-83f4-acad8b6854ed",
   "metadata": {},
   "outputs": [
    {
     "data": {
      "text/html": [
       "<div>\n",
       "<style scoped>\n",
       "    .dataframe tbody tr th:only-of-type {\n",
       "        vertical-align: middle;\n",
       "    }\n",
       "\n",
       "    .dataframe tbody tr th {\n",
       "        vertical-align: top;\n",
       "    }\n",
       "\n",
       "    .dataframe thead th {\n",
       "        text-align: right;\n",
       "    }\n",
       "</style>\n",
       "<table border=\"1\" class=\"dataframe\">\n",
       "  <thead>\n",
       "    <tr style=\"text-align: right;\">\n",
       "      <th></th>\n",
       "      <th>student_id</th>\n",
       "      <th>student_name</th>\n",
       "      <th>grade</th>\n",
       "      <th>school_name</th>\n",
       "      <th>reading_score</th>\n",
       "      <th>math_score</th>\n",
       "      <th>school_type</th>\n",
       "      <th>school_budget</th>\n",
       "    </tr>\n",
       "  </thead>\n",
       "  <tbody>\n",
       "    <tr>\n",
       "      <th>0</th>\n",
       "      <td>103880842</td>\n",
       "      <td>Travis Martin</td>\n",
       "      <td>9th</td>\n",
       "      <td>Sullivan High School</td>\n",
       "      <td>59.0</td>\n",
       "      <td>88.2</td>\n",
       "      <td>Public</td>\n",
       "      <td>961125</td>\n",
       "    </tr>\n",
       "    <tr>\n",
       "      <th>1</th>\n",
       "      <td>45069750</td>\n",
       "      <td>Michael Brown</td>\n",
       "      <td>9th</td>\n",
       "      <td>Dixon High School</td>\n",
       "      <td>94.7</td>\n",
       "      <td>73.5</td>\n",
       "      <td>Charter</td>\n",
       "      <td>870334</td>\n",
       "    </tr>\n",
       "    <tr>\n",
       "      <th>2</th>\n",
       "      <td>45024902</td>\n",
       "      <td>Gabriela Lucero</td>\n",
       "      <td>9th</td>\n",
       "      <td>Wagner High School</td>\n",
       "      <td>89.0</td>\n",
       "      <td>70.4</td>\n",
       "      <td>Public</td>\n",
       "      <td>846745</td>\n",
       "    </tr>\n",
       "    <tr>\n",
       "      <th>3</th>\n",
       "      <td>62582498</td>\n",
       "      <td>Susan Richardson</td>\n",
       "      <td>9th</td>\n",
       "      <td>Silva High School</td>\n",
       "      <td>69.7</td>\n",
       "      <td>80.3</td>\n",
       "      <td>Public</td>\n",
       "      <td>991918</td>\n",
       "    </tr>\n",
       "    <tr>\n",
       "      <th>4</th>\n",
       "      <td>16437227</td>\n",
       "      <td>Sherry Davis</td>\n",
       "      <td>11th</td>\n",
       "      <td>Bowers High School</td>\n",
       "      <td>NaN</td>\n",
       "      <td>27.5</td>\n",
       "      <td>Public</td>\n",
       "      <td>848324</td>\n",
       "    </tr>\n",
       "  </tbody>\n",
       "</table>\n",
       "</div>"
      ],
      "text/plain": [
       "   student_id      student_name grade           school_name  reading_score  \\\n",
       "0   103880842     Travis Martin   9th  Sullivan High School           59.0   \n",
       "1    45069750     Michael Brown   9th     Dixon High School           94.7   \n",
       "2    45024902   Gabriela Lucero   9th    Wagner High School           89.0   \n",
       "3    62582498  Susan Richardson   9th     Silva High School           69.7   \n",
       "4    16437227      Sherry Davis  11th    Bowers High School            NaN   \n",
       "\n",
       "   math_score school_type  school_budget  \n",
       "0        88.2      Public         961125  \n",
       "1        73.5     Charter         870334  \n",
       "2        70.4      Public         846745  \n",
       "3        80.3      Public         991918  \n",
       "4        27.5      Public         848324  "
      ]
     },
     "execution_count": 2,
     "metadata": {},
     "output_type": "execute_result"
    }
   ],
   "source": [
    "# Create the path and import the data\n",
    "full_student_data = os.path.join('../Resources/new_full_student_data.csv')\n",
    "student_df = pd.read_csv(full_student_data , encoding=\"ISO-8859-1\")\n",
    "\n",
    "# Verify that the data was properly imported\n",
    "student_df.head()"
   ]
  },
  {
   "cell_type": "markdown",
   "id": "203e7abc-38ad-4014-ab09-01d674fc7456",
   "metadata": {},
   "source": [
    "## Deliverable 2: Prepare the Data\n",
    "\n",
    "To prepare and clean your data for analysis, complete the following steps:\n",
    "    \n",
    "1. Check for and remove all rows with `NaN`, or missing, values in the student DataFrame. \n",
    "\n",
    "2. Check for and remove all duplicate rows in the student DataFrame.\n",
    "\n",
    "3. Use the `str.replace` function to remove the \"th\" from the grade levels in the grade column.\n",
    "\n",
    "4. Check data types using the `dtypes` property.\n",
    "\n",
    "5. Remove the \"th\" suffix from every value in the grade column using `str` and `replace`.\n",
    "\n",
    "6. Change the grade colum to the `int` type and verify column types.\n",
    "\n",
    "7. Use the head (and/or the tail) function to preview the DataFrame"
   ]
  },
  {
   "cell_type": "code",
   "execution_count": 3,
   "id": "61b8734e-59d0-4b92-8e62-9def4dac4e18",
   "metadata": {},
   "outputs": [
    {
     "data": {
      "text/plain": [
       "student_id          0\n",
       "student_name        0\n",
       "grade               0\n",
       "school_name         0\n",
       "reading_score    1968\n",
       "math_score        982\n",
       "school_type         0\n",
       "school_budget       0\n",
       "dtype: int64"
      ]
     },
     "execution_count": 3,
     "metadata": {},
     "output_type": "execute_result"
    }
   ],
   "source": [
    "# Check for null values\n",
    "student_df.isnull().sum()"
   ]
  },
  {
   "cell_type": "code",
   "execution_count": 4,
   "id": "8f1506c1-460f-4530-b283-f20379d4fbe6",
   "metadata": {},
   "outputs": [
    {
     "data": {
      "text/plain": [
       "student_id       0\n",
       "student_name     0\n",
       "grade            0\n",
       "school_name      0\n",
       "reading_score    0\n",
       "math_score       0\n",
       "school_type      0\n",
       "school_budget    0\n",
       "dtype: int64"
      ]
     },
     "execution_count": 4,
     "metadata": {},
     "output_type": "execute_result"
    }
   ],
   "source": [
    "# Drop rows with null values and verify removal\n",
    "student_df = student_df.dropna()\n",
    "student_df.isnull().sum()"
   ]
  },
  {
   "cell_type": "code",
   "execution_count": 5,
   "id": "0ce748bc-e6d4-4f48-8d17-42e05df8163c",
   "metadata": {},
   "outputs": [
    {
     "data": {
      "text/plain": [
       "1836"
      ]
     },
     "execution_count": 5,
     "metadata": {},
     "output_type": "execute_result"
    }
   ],
   "source": [
    "# Check for duplicated rows\n",
    "student_df.duplicated().sum()"
   ]
  },
  {
   "cell_type": "code",
   "execution_count": 6,
   "id": "a32cbdba-788c-4a71-9216-c448ecc4aa89",
   "metadata": {},
   "outputs": [
    {
     "data": {
      "text/plain": [
       "0"
      ]
     },
     "execution_count": 6,
     "metadata": {},
     "output_type": "execute_result"
    }
   ],
   "source": [
    "# Drop duplicated rows and verify removal\n",
    "student_df = student_df.drop_duplicates()\n",
    "student_df.duplicated().sum()"
   ]
  },
  {
   "cell_type": "code",
   "execution_count": 7,
   "id": "4fdb684e-1a8d-4269-947c-cef1d48fd0a3",
   "metadata": {},
   "outputs": [
    {
     "data": {
      "text/plain": [
       "student_id         int64\n",
       "student_name      object\n",
       "grade             object\n",
       "school_name       object\n",
       "reading_score    float64\n",
       "math_score       float64\n",
       "school_type       object\n",
       "school_budget      int64\n",
       "dtype: object"
      ]
     },
     "execution_count": 7,
     "metadata": {},
     "output_type": "execute_result"
    }
   ],
   "source": [
    "# Check data types\n",
    "student_df.dtypes"
   ]
  },
  {
   "cell_type": "code",
   "execution_count": 8,
   "id": "47cc5b06-9831-4462-a117-58e8bffee487",
   "metadata": {},
   "outputs": [
    {
     "data": {
      "text/plain": [
       "0         9th\n",
       "1         9th\n",
       "2         9th\n",
       "3         9th\n",
       "5         9th\n",
       "         ... \n",
       "19508    10th\n",
       "19509    12th\n",
       "19511    11th\n",
       "19512    11th\n",
       "19513    12th\n",
       "Name: grade, Length: 14831, dtype: object"
      ]
     },
     "execution_count": 8,
     "metadata": {},
     "output_type": "execute_result"
    }
   ],
   "source": [
    "# Examine the grade column to understand why it is not an int\n",
    "student_df[\"grade\"]"
   ]
  },
  {
   "cell_type": "code",
   "execution_count": 9,
   "id": "9b214da2-fd0a-4857-8dc3-f5a4890e6146",
   "metadata": {},
   "outputs": [
    {
     "data": {
      "text/plain": [
       "0         9 \n",
       "1         9 \n",
       "2         9 \n",
       "3         9 \n",
       "5         9 \n",
       "        ... \n",
       "19508    10 \n",
       "19509    12 \n",
       "19511    11 \n",
       "19512    11 \n",
       "19513    12 \n",
       "Name: grade, Length: 14831, dtype: object"
      ]
     },
     "execution_count": 9,
     "metadata": {},
     "output_type": "execute_result"
    }
   ],
   "source": [
    "# Remove the non-numeric characters and verify the contents of the column\n",
    "student_df.loc[:,\"grade\"] = student_df.loc[:,\"grade\"].str.replace(\"th\",\" \")\n",
    "student_df[\"grade\"]"
   ]
  },
  {
   "cell_type": "code",
   "execution_count": 10,
   "id": "376f7b51-bd37-438a-bf11-33ba1cc169ac",
   "metadata": {},
   "outputs": [
    {
     "data": {
      "text/plain": [
       "student_id         int64\n",
       "student_name      object\n",
       "grade              int64\n",
       "school_name       object\n",
       "reading_score    float64\n",
       "math_score       float64\n",
       "school_type       object\n",
       "school_budget      int64\n",
       "dtype: object"
      ]
     },
     "execution_count": 10,
     "metadata": {},
     "output_type": "execute_result"
    }
   ],
   "source": [
    "# Change the grade column to the int type and verify column types\n",
    "student_df[\"grade\"] = student_df[\"grade\"].astype(\"int64\")\n",
    "student_df.dtypes\n",
    "\n"
   ]
  },
  {
   "cell_type": "markdown",
   "id": "b84b4865-217a-44e7-915e-a34ed4a748f3",
   "metadata": {},
   "source": [
    "## Deliverable 3: Summarize the Data\n",
    "\n",
    "Describe the data using summary statistics on the data as a whole and on individual columns.\n",
    "\n",
    "1. Generate the summary statistics for each DataFrame by using the `describe` function.\n",
    "\n",
    "2. Display the mean math score using the `mean` function. \n",
    "\n",
    "2. Store the minimum reading score as `min_reading_score`.\n"
   ]
  },
  {
   "cell_type": "code",
   "execution_count": 11,
   "id": "c70edcfc-fac0-490a-aa7c-db556c6fa263",
   "metadata": {},
   "outputs": [
    {
     "data": {
      "text/html": [
       "<div>\n",
       "<style scoped>\n",
       "    .dataframe tbody tr th:only-of-type {\n",
       "        vertical-align: middle;\n",
       "    }\n",
       "\n",
       "    .dataframe tbody tr th {\n",
       "        vertical-align: top;\n",
       "    }\n",
       "\n",
       "    .dataframe thead th {\n",
       "        text-align: right;\n",
       "    }\n",
       "</style>\n",
       "<table border=\"1\" class=\"dataframe\">\n",
       "  <thead>\n",
       "    <tr style=\"text-align: right;\">\n",
       "      <th></th>\n",
       "      <th>student_id</th>\n",
       "      <th>grade</th>\n",
       "      <th>reading_score</th>\n",
       "      <th>math_score</th>\n",
       "      <th>school_budget</th>\n",
       "    </tr>\n",
       "  </thead>\n",
       "  <tbody>\n",
       "    <tr>\n",
       "      <th>count</th>\n",
       "      <td>1.483100e+04</td>\n",
       "      <td>14831.000000</td>\n",
       "      <td>14831.000000</td>\n",
       "      <td>14831.000000</td>\n",
       "      <td>14831.000000</td>\n",
       "    </tr>\n",
       "    <tr>\n",
       "      <th>mean</th>\n",
       "      <td>6.975296e+07</td>\n",
       "      <td>10.355539</td>\n",
       "      <td>72.357865</td>\n",
       "      <td>64.675733</td>\n",
       "      <td>893742.749107</td>\n",
       "    </tr>\n",
       "    <tr>\n",
       "      <th>std</th>\n",
       "      <td>3.452909e+07</td>\n",
       "      <td>1.097728</td>\n",
       "      <td>15.224590</td>\n",
       "      <td>15.844093</td>\n",
       "      <td>53938.066467</td>\n",
       "    </tr>\n",
       "    <tr>\n",
       "      <th>min</th>\n",
       "      <td>1.000906e+07</td>\n",
       "      <td>9.000000</td>\n",
       "      <td>10.500000</td>\n",
       "      <td>3.700000</td>\n",
       "      <td>817615.000000</td>\n",
       "    </tr>\n",
       "    <tr>\n",
       "      <th>25%</th>\n",
       "      <td>3.984433e+07</td>\n",
       "      <td>9.000000</td>\n",
       "      <td>62.200000</td>\n",
       "      <td>54.500000</td>\n",
       "      <td>846745.000000</td>\n",
       "    </tr>\n",
       "    <tr>\n",
       "      <th>50%</th>\n",
       "      <td>6.965978e+07</td>\n",
       "      <td>10.000000</td>\n",
       "      <td>73.800000</td>\n",
       "      <td>65.300000</td>\n",
       "      <td>893368.000000</td>\n",
       "    </tr>\n",
       "    <tr>\n",
       "      <th>75%</th>\n",
       "      <td>9.927449e+07</td>\n",
       "      <td>11.000000</td>\n",
       "      <td>84.000000</td>\n",
       "      <td>76.000000</td>\n",
       "      <td>956438.000000</td>\n",
       "    </tr>\n",
       "    <tr>\n",
       "      <th>max</th>\n",
       "      <td>1.299997e+08</td>\n",
       "      <td>12.000000</td>\n",
       "      <td>100.000000</td>\n",
       "      <td>100.000000</td>\n",
       "      <td>991918.000000</td>\n",
       "    </tr>\n",
       "  </tbody>\n",
       "</table>\n",
       "</div>"
      ],
      "text/plain": [
       "         student_id         grade  reading_score    math_score  school_budget\n",
       "count  1.483100e+04  14831.000000   14831.000000  14831.000000   14831.000000\n",
       "mean   6.975296e+07     10.355539      72.357865     64.675733  893742.749107\n",
       "std    3.452909e+07      1.097728      15.224590     15.844093   53938.066467\n",
       "min    1.000906e+07      9.000000      10.500000      3.700000  817615.000000\n",
       "25%    3.984433e+07      9.000000      62.200000     54.500000  846745.000000\n",
       "50%    6.965978e+07     10.000000      73.800000     65.300000  893368.000000\n",
       "75%    9.927449e+07     11.000000      84.000000     76.000000  956438.000000\n",
       "max    1.299997e+08     12.000000     100.000000    100.000000  991918.000000"
      ]
     },
     "execution_count": 11,
     "metadata": {},
     "output_type": "execute_result"
    }
   ],
   "source": [
    "# Display summary statistics for the DataFrame\n",
    "student_df.describe()"
   ]
  },
  {
   "cell_type": "code",
   "execution_count": 12,
   "id": "f68b1c24-6d33-4737-a186-bc76c8bb50e2",
   "metadata": {},
   "outputs": [
    {
     "data": {
      "text/plain": [
       "64.67573326141189"
      ]
     },
     "execution_count": 12,
     "metadata": {},
     "output_type": "execute_result"
    }
   ],
   "source": [
    "# Display the mean math score using the mean function\n",
    "student_df[\"math_score\"].mean()"
   ]
  },
  {
   "cell_type": "code",
   "execution_count": 13,
   "id": "28fb378a-4189-4e33-8b77-021af05bf99e",
   "metadata": {},
   "outputs": [
    {
     "data": {
      "text/plain": [
       "10.5"
      ]
     },
     "execution_count": 13,
     "metadata": {},
     "output_type": "execute_result"
    }
   ],
   "source": [
    "# Store the minimum reading score as min_reading_score\n",
    "min_reading_score = student_df[\"reading_score\"].min()\n",
    "min_reading_score"
   ]
  },
  {
   "cell_type": "markdown",
   "id": "52e5d437-fffe-423e-a6f3-713734b3b985",
   "metadata": {},
   "source": [
    "## Deliverable 4: Drill Down into the Data\n",
    "\n",
    "Drill down to specific rows, columns, and subsets of the data.\n",
    "\n",
    "To drill down into the data, complete the following steps:\n",
    "\n",
    "1. Use `loc` to display the grade column.\n",
    "\n",
    "2. Use `iloc` to display the first 3 rows and columns 3, 4, and 5.\n",
    "\n",
    "3. Show the rows for grade nine using `loc`.\n",
    "\n",
    "4. Store the row with the minimum overall reading score as `min_reading_row` using `loc` and the `min_reading_score` found in Deliverable 3.\n",
    "\n",
    "5. Find the reading scores for the school and grade from the output of step three using `loc` with multiple conditional statements.\n",
    "\n",
    "6. Using conditional statements and `loc` or `iloc`, find the mean reading score for all students in grades 11 and 12 combined.\n"
   ]
  },
  {
   "cell_type": "code",
   "execution_count": 14,
   "id": "5a4276be-5d6e-4d12-8e00-4366ab1e60f9",
   "metadata": {},
   "outputs": [
    {
     "data": {
      "text/plain": [
       "0         9\n",
       "1         9\n",
       "2         9\n",
       "3         9\n",
       "5         9\n",
       "         ..\n",
       "19508    10\n",
       "19509    12\n",
       "19511    11\n",
       "19512    11\n",
       "19513    12\n",
       "Name: grade, Length: 14831, dtype: int64"
      ]
     },
     "execution_count": 14,
     "metadata": {},
     "output_type": "execute_result"
    }
   ],
   "source": [
    "# Use loc to display the grade column\n",
    "student_df.loc[:,\"grade\"]"
   ]
  },
  {
   "cell_type": "code",
   "execution_count": 15,
   "id": "c164560d-9e3c-4c4e-9f4d-432a58c57c1f",
   "metadata": {},
   "outputs": [
    {
     "data": {
      "text/html": [
       "<div>\n",
       "<style scoped>\n",
       "    .dataframe tbody tr th:only-of-type {\n",
       "        vertical-align: middle;\n",
       "    }\n",
       "\n",
       "    .dataframe tbody tr th {\n",
       "        vertical-align: top;\n",
       "    }\n",
       "\n",
       "    .dataframe thead th {\n",
       "        text-align: right;\n",
       "    }\n",
       "</style>\n",
       "<table border=\"1\" class=\"dataframe\">\n",
       "  <thead>\n",
       "    <tr style=\"text-align: right;\">\n",
       "      <th></th>\n",
       "      <th>school_name</th>\n",
       "      <th>reading_score</th>\n",
       "      <th>math_score</th>\n",
       "    </tr>\n",
       "  </thead>\n",
       "  <tbody>\n",
       "    <tr>\n",
       "      <th>0</th>\n",
       "      <td>Sullivan High School</td>\n",
       "      <td>59.0</td>\n",
       "      <td>88.2</td>\n",
       "    </tr>\n",
       "    <tr>\n",
       "      <th>1</th>\n",
       "      <td>Dixon High School</td>\n",
       "      <td>94.7</td>\n",
       "      <td>73.5</td>\n",
       "    </tr>\n",
       "    <tr>\n",
       "      <th>2</th>\n",
       "      <td>Wagner High School</td>\n",
       "      <td>89.0</td>\n",
       "      <td>70.4</td>\n",
       "    </tr>\n",
       "  </tbody>\n",
       "</table>\n",
       "</div>"
      ],
      "text/plain": [
       "            school_name  reading_score  math_score\n",
       "0  Sullivan High School           59.0        88.2\n",
       "1     Dixon High School           94.7        73.5\n",
       "2    Wagner High School           89.0        70.4"
      ]
     },
     "execution_count": 15,
     "metadata": {},
     "output_type": "execute_result"
    }
   ],
   "source": [
    "# Use `iloc` to display the first 3 rows and columns 3, 4, and 5.\n",
    "student_df.iloc[0:3,3:6]"
   ]
  },
  {
   "cell_type": "code",
   "execution_count": 16,
   "id": "6b1f3ec1-6570-4534-bd34-5c505ee69212",
   "metadata": {},
   "outputs": [
    {
     "data": {
      "text/html": [
       "<div>\n",
       "<style scoped>\n",
       "    .dataframe tbody tr th:only-of-type {\n",
       "        vertical-align: middle;\n",
       "    }\n",
       "\n",
       "    .dataframe tbody tr th {\n",
       "        vertical-align: top;\n",
       "    }\n",
       "\n",
       "    .dataframe thead th {\n",
       "        text-align: right;\n",
       "    }\n",
       "</style>\n",
       "<table border=\"1\" class=\"dataframe\">\n",
       "  <thead>\n",
       "    <tr style=\"text-align: right;\">\n",
       "      <th></th>\n",
       "      <th>student_id</th>\n",
       "      <th>grade</th>\n",
       "      <th>reading_score</th>\n",
       "      <th>math_score</th>\n",
       "      <th>school_budget</th>\n",
       "    </tr>\n",
       "  </thead>\n",
       "  <tbody>\n",
       "    <tr>\n",
       "      <th>count</th>\n",
       "      <td>4.132000e+03</td>\n",
       "      <td>4132.0</td>\n",
       "      <td>4132.000000</td>\n",
       "      <td>4132.000000</td>\n",
       "      <td>4132.000000</td>\n",
       "    </tr>\n",
       "    <tr>\n",
       "      <th>mean</th>\n",
       "      <td>6.979441e+07</td>\n",
       "      <td>9.0</td>\n",
       "      <td>69.236713</td>\n",
       "      <td>66.585624</td>\n",
       "      <td>898692.606002</td>\n",
       "    </tr>\n",
       "    <tr>\n",
       "      <th>std</th>\n",
       "      <td>3.470565e+07</td>\n",
       "      <td>0.0</td>\n",
       "      <td>15.277354</td>\n",
       "      <td>16.661533</td>\n",
       "      <td>54891.596611</td>\n",
       "    </tr>\n",
       "    <tr>\n",
       "      <th>min</th>\n",
       "      <td>1.000906e+07</td>\n",
       "      <td>9.0</td>\n",
       "      <td>17.900000</td>\n",
       "      <td>5.300000</td>\n",
       "      <td>817615.000000</td>\n",
       "    </tr>\n",
       "    <tr>\n",
       "      <th>25%</th>\n",
       "      <td>3.953848e+07</td>\n",
       "      <td>9.0</td>\n",
       "      <td>59.000000</td>\n",
       "      <td>56.000000</td>\n",
       "      <td>846745.000000</td>\n",
       "    </tr>\n",
       "    <tr>\n",
       "      <th>50%</th>\n",
       "      <td>6.984037e+07</td>\n",
       "      <td>9.0</td>\n",
       "      <td>70.050000</td>\n",
       "      <td>67.800000</td>\n",
       "      <td>893368.000000</td>\n",
       "    </tr>\n",
       "    <tr>\n",
       "      <th>75%</th>\n",
       "      <td>9.939504e+07</td>\n",
       "      <td>9.0</td>\n",
       "      <td>80.500000</td>\n",
       "      <td>78.500000</td>\n",
       "      <td>957299.000000</td>\n",
       "    </tr>\n",
       "    <tr>\n",
       "      <th>max</th>\n",
       "      <td>1.299997e+08</td>\n",
       "      <td>9.0</td>\n",
       "      <td>99.900000</td>\n",
       "      <td>100.000000</td>\n",
       "      <td>991918.000000</td>\n",
       "    </tr>\n",
       "  </tbody>\n",
       "</table>\n",
       "</div>"
      ],
      "text/plain": [
       "         student_id   grade  reading_score   math_score  school_budget\n",
       "count  4.132000e+03  4132.0    4132.000000  4132.000000    4132.000000\n",
       "mean   6.979441e+07     9.0      69.236713    66.585624  898692.606002\n",
       "std    3.470565e+07     0.0      15.277354    16.661533   54891.596611\n",
       "min    1.000906e+07     9.0      17.900000     5.300000  817615.000000\n",
       "25%    3.953848e+07     9.0      59.000000    56.000000  846745.000000\n",
       "50%    6.984037e+07     9.0      70.050000    67.800000  893368.000000\n",
       "75%    9.939504e+07     9.0      80.500000    78.500000  957299.000000\n",
       "max    1.299997e+08     9.0      99.900000   100.000000  991918.000000"
      ]
     },
     "execution_count": 16,
     "metadata": {},
     "output_type": "execute_result"
    }
   ],
   "source": [
    "# Select the rows for grade nine and display their summary statistics using `loc` and `describe`.\n",
    "grade_student_df = student_df.loc[student_df[\"grade\"] == 9]\n",
    "grade_student_df.describe()"
   ]
  },
  {
   "cell_type": "code",
   "execution_count": 17,
   "id": "cee5dca9-ae4c-493f-9dcd-9c1970c3845a",
   "metadata": {},
   "outputs": [
    {
     "data": {
      "text/html": [
       "<div>\n",
       "<style scoped>\n",
       "    .dataframe tbody tr th:only-of-type {\n",
       "        vertical-align: middle;\n",
       "    }\n",
       "\n",
       "    .dataframe tbody tr th {\n",
       "        vertical-align: top;\n",
       "    }\n",
       "\n",
       "    .dataframe thead th {\n",
       "        text-align: right;\n",
       "    }\n",
       "</style>\n",
       "<table border=\"1\" class=\"dataframe\">\n",
       "  <thead>\n",
       "    <tr style=\"text-align: right;\">\n",
       "      <th></th>\n",
       "      <th>student_id</th>\n",
       "      <th>student_name</th>\n",
       "      <th>grade</th>\n",
       "      <th>school_name</th>\n",
       "      <th>reading_score</th>\n",
       "      <th>math_score</th>\n",
       "      <th>school_type</th>\n",
       "      <th>school_budget</th>\n",
       "    </tr>\n",
       "  </thead>\n",
       "  <tbody>\n",
       "    <tr>\n",
       "      <th>3706</th>\n",
       "      <td>81758630</td>\n",
       "      <td>Matthew Thomas</td>\n",
       "      <td>10</td>\n",
       "      <td>Dixon High School</td>\n",
       "      <td>10.5</td>\n",
       "      <td>58.4</td>\n",
       "      <td>Charter</td>\n",
       "      <td>870334</td>\n",
       "    </tr>\n",
       "  </tbody>\n",
       "</table>\n",
       "</div>"
      ],
      "text/plain": [
       "      student_id    student_name  grade        school_name  reading_score  \\\n",
       "3706    81758630  Matthew Thomas     10  Dixon High School           10.5   \n",
       "\n",
       "      math_score school_type  school_budget  \n",
       "3706        58.4     Charter         870334  "
      ]
     },
     "execution_count": 17,
     "metadata": {},
     "output_type": "execute_result"
    }
   ],
   "source": [
    "# Store the row with the minimum overall reading score as `min_reading_row`\n",
    "# using `loc` and the `min_reading_score` found in Deliverable 3.\n",
    "min_reading_score = student_df[\"reading_score\"].min()\n",
    "student_df.loc[student_df[\"reading_score\"] == min_reading_score]"
   ]
  },
  {
   "cell_type": "code",
   "execution_count": 18,
   "id": "9751d498-f613-4d0c-9e29-0e48d6cb16f1",
   "metadata": {},
   "outputs": [
    {
     "data": {
      "text/html": [
       "<div>\n",
       "<style scoped>\n",
       "    .dataframe tbody tr th:only-of-type {\n",
       "        vertical-align: middle;\n",
       "    }\n",
       "\n",
       "    .dataframe tbody tr th {\n",
       "        vertical-align: top;\n",
       "    }\n",
       "\n",
       "    .dataframe thead th {\n",
       "        text-align: right;\n",
       "    }\n",
       "</style>\n",
       "<table border=\"1\" class=\"dataframe\">\n",
       "  <thead>\n",
       "    <tr style=\"text-align: right;\">\n",
       "      <th></th>\n",
       "      <th>school_name</th>\n",
       "      <th>reading_score</th>\n",
       "    </tr>\n",
       "  </thead>\n",
       "  <tbody>\n",
       "    <tr>\n",
       "      <th>45</th>\n",
       "      <td>Dixon High School</td>\n",
       "      <td>71.1</td>\n",
       "    </tr>\n",
       "    <tr>\n",
       "      <th>60</th>\n",
       "      <td>Dixon High School</td>\n",
       "      <td>59.5</td>\n",
       "    </tr>\n",
       "    <tr>\n",
       "      <th>69</th>\n",
       "      <td>Dixon High School</td>\n",
       "      <td>88.6</td>\n",
       "    </tr>\n",
       "    <tr>\n",
       "      <th>94</th>\n",
       "      <td>Dixon High School</td>\n",
       "      <td>81.5</td>\n",
       "    </tr>\n",
       "    <tr>\n",
       "      <th>100</th>\n",
       "      <td>Dixon High School</td>\n",
       "      <td>95.3</td>\n",
       "    </tr>\n",
       "    <tr>\n",
       "      <th>...</th>\n",
       "      <td>...</td>\n",
       "      <td>...</td>\n",
       "    </tr>\n",
       "    <tr>\n",
       "      <th>19283</th>\n",
       "      <td>Dixon High School</td>\n",
       "      <td>52.9</td>\n",
       "    </tr>\n",
       "    <tr>\n",
       "      <th>19306</th>\n",
       "      <td>Dixon High School</td>\n",
       "      <td>58.0</td>\n",
       "    </tr>\n",
       "    <tr>\n",
       "      <th>19344</th>\n",
       "      <td>Dixon High School</td>\n",
       "      <td>38.0</td>\n",
       "    </tr>\n",
       "    <tr>\n",
       "      <th>19368</th>\n",
       "      <td>Dixon High School</td>\n",
       "      <td>84.4</td>\n",
       "    </tr>\n",
       "    <tr>\n",
       "      <th>19445</th>\n",
       "      <td>Dixon High School</td>\n",
       "      <td>43.9</td>\n",
       "    </tr>\n",
       "  </tbody>\n",
       "</table>\n",
       "<p>569 rows × 2 columns</p>\n",
       "</div>"
      ],
      "text/plain": [
       "             school_name  reading_score\n",
       "45     Dixon High School           71.1\n",
       "60     Dixon High School           59.5\n",
       "69     Dixon High School           88.6\n",
       "94     Dixon High School           81.5\n",
       "100    Dixon High School           95.3\n",
       "...                  ...            ...\n",
       "19283  Dixon High School           52.9\n",
       "19306  Dixon High School           58.0\n",
       "19344  Dixon High School           38.0\n",
       "19368  Dixon High School           84.4\n",
       "19445  Dixon High School           43.9\n",
       "\n",
       "[569 rows x 2 columns]"
      ]
     },
     "execution_count": 18,
     "metadata": {},
     "output_type": "execute_result"
    }
   ],
   "source": [
    "# Use loc with conditionals to select all reading scores from 10th graders at Dixon High School.\n",
    "student_df.loc[(student_df[\"grade\"] == 10) & (student_df[\"school_name\"] == \"Dixon High School\"), [\"school_name\",\"reading_score\"]]\n"
   ]
  },
  {
   "cell_type": "code",
   "execution_count": 19,
   "id": "44ebf6a5-7f0d-43f3-bcdd-076ef45fa670",
   "metadata": {},
   "outputs": [
    {
     "data": {
      "text/plain": [
       "74.90038089192188"
      ]
     },
     "execution_count": 19,
     "metadata": {},
     "output_type": "execute_result"
    }
   ],
   "source": [
    "# Find the mean reading score for all students in grades 11 and 12 combined.\n",
    "\n",
    "# student_df.loc[(student_df[\"grade\"] > 10), \"math_score\"].mean() is 63.25853039200117\n",
    "\n",
    "student_df.loc[(student_df[\"grade\"] > 10), \"reading_score\"].mean()\n"
   ]
  },
  {
   "cell_type": "markdown",
   "id": "c6c73ab0-926c-4354-8cff-6a4a81b3633e",
   "metadata": {},
   "source": [
    "## Deliverable 5: Make Comparisons Between District and Charter Schools\n",
    "\n",
    "Compare district vs charter schools for budget, size, and scores.\n",
    "\n",
    "Make comparisons within your data by completing the following steps:\n",
    "\n",
    "1. Using the `groupby` and `mean` functions, look at the average reading and math scores per school type.\n",
    "\n",
    "1. Using the `groupby` and `count` functions, find the total number of students at each school.\n",
    "\n",
    "2. Using the `groupby` and `mean` functions, find the average budget per grade for each school type."
   ]
  },
  {
   "cell_type": "code",
   "execution_count": 20,
   "id": "f2f8dfa0-8cba-4149-acfd-8a8554b6e9d9",
   "metadata": {
    "scrolled": true
   },
   "outputs": [
    {
     "data": {
      "text/html": [
       "<div>\n",
       "<style scoped>\n",
       "    .dataframe tbody tr th:only-of-type {\n",
       "        vertical-align: middle;\n",
       "    }\n",
       "\n",
       "    .dataframe tbody tr th {\n",
       "        vertical-align: top;\n",
       "    }\n",
       "\n",
       "    .dataframe thead th {\n",
       "        text-align: right;\n",
       "    }\n",
       "</style>\n",
       "<table border=\"1\" class=\"dataframe\">\n",
       "  <thead>\n",
       "    <tr style=\"text-align: right;\">\n",
       "      <th></th>\n",
       "      <th>math_score</th>\n",
       "      <th>reading_score</th>\n",
       "    </tr>\n",
       "    <tr>\n",
       "      <th>school_type</th>\n",
       "      <th></th>\n",
       "      <th></th>\n",
       "    </tr>\n",
       "  </thead>\n",
       "  <tbody>\n",
       "    <tr>\n",
       "      <th>Charter</th>\n",
       "      <td>66.761883</td>\n",
       "      <td>72.450603</td>\n",
       "    </tr>\n",
       "    <tr>\n",
       "      <th>Public</th>\n",
       "      <td>62.951576</td>\n",
       "      <td>72.281219</td>\n",
       "    </tr>\n",
       "  </tbody>\n",
       "</table>\n",
       "</div>"
      ],
      "text/plain": [
       "             math_score  reading_score\n",
       "school_type                           \n",
       "Charter       66.761883      72.450603\n",
       "Public        62.951576      72.281219"
      ]
     },
     "execution_count": 20,
     "metadata": {},
     "output_type": "execute_result"
    }
   ],
   "source": [
    "# Use groupby and mean to find the average reading and math scores for each school type.\n",
    "avg_student_scores_by_type = student_df.groupby([\"school_type\"]).mean()\n",
    "avg_student_scores_by_type.loc[:,[\"math_score\",\"reading_score\"]]\n"
   ]
  },
  {
   "cell_type": "code",
   "execution_count": 21,
   "id": "0339278f",
   "metadata": {},
   "outputs": [
    {
     "data": {
      "text/html": [
       "<div>\n",
       "<style scoped>\n",
       "    .dataframe tbody tr th:only-of-type {\n",
       "        vertical-align: middle;\n",
       "    }\n",
       "\n",
       "    .dataframe tbody tr th {\n",
       "        vertical-align: top;\n",
       "    }\n",
       "\n",
       "    .dataframe thead th {\n",
       "        text-align: right;\n",
       "    }\n",
       "</style>\n",
       "<table border=\"1\" class=\"dataframe\">\n",
       "  <thead>\n",
       "    <tr style=\"text-align: right;\">\n",
       "      <th></th>\n",
       "      <th>school_budget</th>\n",
       "    </tr>\n",
       "    <tr>\n",
       "      <th>school_type</th>\n",
       "      <th></th>\n",
       "    </tr>\n",
       "  </thead>\n",
       "  <tbody>\n",
       "    <tr>\n",
       "      <th>Charter</th>\n",
       "      <td>872625.656236</td>\n",
       "    </tr>\n",
       "    <tr>\n",
       "      <th>Public</th>\n",
       "      <td>911195.558251</td>\n",
       "    </tr>\n",
       "  </tbody>\n",
       "</table>\n",
       "</div>"
      ],
      "text/plain": [
       "             school_budget\n",
       "school_type               \n",
       "Charter      872625.656236\n",
       "Public       911195.558251"
      ]
     },
     "execution_count": 21,
     "metadata": {},
     "output_type": "execute_result"
    }
   ],
   "source": [
    "#Use groupby and mean to find the average budget for each school type.\n",
    "avg_budget_by_type = student_df.groupby([\"school_type\"]).mean()\n",
    "avg_budget_by_type.loc[:,[\"school_budget\"]]"
   ]
  },
  {
   "cell_type": "code",
   "execution_count": 22,
   "id": "44bb60a9-2097-48f8-89a7-6be77667a553",
   "metadata": {},
   "outputs": [
    {
     "data": {
      "text/html": [
       "<div>\n",
       "<style scoped>\n",
       "    .dataframe tbody tr th:only-of-type {\n",
       "        vertical-align: middle;\n",
       "    }\n",
       "\n",
       "    .dataframe tbody tr th {\n",
       "        vertical-align: top;\n",
       "    }\n",
       "\n",
       "    .dataframe thead th {\n",
       "        text-align: right;\n",
       "    }\n",
       "</style>\n",
       "<table border=\"1\" class=\"dataframe\">\n",
       "  <thead>\n",
       "    <tr style=\"text-align: right;\">\n",
       "      <th></th>\n",
       "      <th>student_count</th>\n",
       "    </tr>\n",
       "    <tr>\n",
       "      <th>school_name</th>\n",
       "      <th></th>\n",
       "    </tr>\n",
       "  </thead>\n",
       "  <tbody>\n",
       "    <tr>\n",
       "      <th>Montgomery High School</th>\n",
       "      <td>2038</td>\n",
       "    </tr>\n",
       "    <tr>\n",
       "      <th>Green High School</th>\n",
       "      <td>1961</td>\n",
       "    </tr>\n",
       "    <tr>\n",
       "      <th>Dixon High School</th>\n",
       "      <td>1583</td>\n",
       "    </tr>\n",
       "    <tr>\n",
       "      <th>Wagner High School</th>\n",
       "      <td>1541</td>\n",
       "    </tr>\n",
       "    <tr>\n",
       "      <th>Silva High School</th>\n",
       "      <td>1109</td>\n",
       "    </tr>\n",
       "    <tr>\n",
       "      <th>Woods High School</th>\n",
       "      <td>1052</td>\n",
       "    </tr>\n",
       "    <tr>\n",
       "      <th>Sullivan High School</th>\n",
       "      <td>971</td>\n",
       "    </tr>\n",
       "    <tr>\n",
       "      <th>Turner High School</th>\n",
       "      <td>846</td>\n",
       "    </tr>\n",
       "    <tr>\n",
       "      <th>Bowers High School</th>\n",
       "      <td>803</td>\n",
       "    </tr>\n",
       "    <tr>\n",
       "      <th>Fisher High School</th>\n",
       "      <td>798</td>\n",
       "    </tr>\n",
       "    <tr>\n",
       "      <th>Richard High School</th>\n",
       "      <td>551</td>\n",
       "    </tr>\n",
       "    <tr>\n",
       "      <th>Campos High School</th>\n",
       "      <td>541</td>\n",
       "    </tr>\n",
       "    <tr>\n",
       "      <th>Odonnell High School</th>\n",
       "      <td>459</td>\n",
       "    </tr>\n",
       "    <tr>\n",
       "      <th>Campbell High School</th>\n",
       "      <td>407</td>\n",
       "    </tr>\n",
       "    <tr>\n",
       "      <th>Chang High School</th>\n",
       "      <td>171</td>\n",
       "    </tr>\n",
       "  </tbody>\n",
       "</table>\n",
       "</div>"
      ],
      "text/plain": [
       "                        student_count\n",
       "school_name                          \n",
       "Montgomery High School           2038\n",
       "Green High School                1961\n",
       "Dixon High School                1583\n",
       "Wagner High School               1541\n",
       "Silva High School                1109\n",
       "Woods High School                1052\n",
       "Sullivan High School              971\n",
       "Turner High School                846\n",
       "Bowers High School                803\n",
       "Fisher High School                798\n",
       "Richard High School               551\n",
       "Campos High School                541\n",
       "Odonnell High School              459\n",
       "Campbell High School              407\n",
       "Chang High School                 171"
      ]
     },
     "execution_count": 22,
     "metadata": {},
     "output_type": "execute_result"
    }
   ],
   "source": [
    "# Use the `groupby`, `count`, and `sort_values` functions to find the\n",
    "# total number of students at each school and sort from most students to least students.\n",
    "\n",
    "num_students = student_df.groupby([\"school_name\"]).count()\n",
    "num_students[\"student_count\"] = num_students[\"student_name\"]\n",
    "num_students.loc[:,[\"student_count\"]].sort_values(by=[\"student_count\"] , ascending = False)"
   ]
  },
  {
   "cell_type": "code",
   "execution_count": 23,
   "id": "df207e2d-c963-4758-8bc8-81a0e9472e34",
   "metadata": {
    "tags": []
   },
   "outputs": [
    {
     "data": {
      "text/html": [
       "<div>\n",
       "<style scoped>\n",
       "    .dataframe tbody tr th:only-of-type {\n",
       "        vertical-align: middle;\n",
       "    }\n",
       "\n",
       "    .dataframe tbody tr th {\n",
       "        vertical-align: top;\n",
       "    }\n",
       "\n",
       "    .dataframe thead th {\n",
       "        text-align: right;\n",
       "    }\n",
       "</style>\n",
       "<table border=\"1\" class=\"dataframe\">\n",
       "  <thead>\n",
       "    <tr style=\"text-align: right;\">\n",
       "      <th></th>\n",
       "      <th></th>\n",
       "      <th>school_budget</th>\n",
       "    </tr>\n",
       "    <tr>\n",
       "      <th>school_type</th>\n",
       "      <th>grade</th>\n",
       "      <th></th>\n",
       "    </tr>\n",
       "  </thead>\n",
       "  <tbody>\n",
       "    <tr>\n",
       "      <th rowspan=\"4\" valign=\"top\">Charter</th>\n",
       "      <th>9</th>\n",
       "      <td>863817.290</td>\n",
       "    </tr>\n",
       "    <tr>\n",
       "      <th>10</th>\n",
       "      <td>871823.609</td>\n",
       "    </tr>\n",
       "    <tr>\n",
       "      <th>11</th>\n",
       "      <td>874262.714</td>\n",
       "    </tr>\n",
       "    <tr>\n",
       "      <th>12</th>\n",
       "      <td>885096.335</td>\n",
       "    </tr>\n",
       "    <tr>\n",
       "      <th rowspan=\"4\" valign=\"top\">Public</th>\n",
       "      <th>9</th>\n",
       "      <td>926800.160</td>\n",
       "    </tr>\n",
       "    <tr>\n",
       "      <th>10</th>\n",
       "      <td>914715.360</td>\n",
       "    </tr>\n",
       "    <tr>\n",
       "      <th>11</th>\n",
       "      <td>900248.905</td>\n",
       "    </tr>\n",
       "    <tr>\n",
       "      <th>12</th>\n",
       "      <td>895952.916</td>\n",
       "    </tr>\n",
       "  </tbody>\n",
       "</table>\n",
       "</div>"
      ],
      "text/plain": [
       "                   school_budget\n",
       "school_type grade               \n",
       "Charter     9         863817.290\n",
       "            10        871823.609\n",
       "            11        874262.714\n",
       "            12        885096.335\n",
       "Public      9         926800.160\n",
       "            10        914715.360\n",
       "            11        900248.905\n",
       "            12        895952.916"
      ]
     },
     "execution_count": 23,
     "metadata": {},
     "output_type": "execute_result"
    }
   ],
   "source": [
    "# Using the groupby and mean functions, find the average budget per grade for each school type.\n",
    "school_budget_df = student_df.groupby([\"school_type\",\"grade\"]).mean()\n",
    "school_budget_df.loc[:,[\"school_budget\"]].round(3)\n"
   ]
  },
  {
   "cell_type": "code",
   "execution_count": 24,
   "id": "9f2af38c",
   "metadata": {},
   "outputs": [
    {
     "data": {
      "text/html": [
       "<div>\n",
       "<style scoped>\n",
       "    .dataframe tbody tr th:only-of-type {\n",
       "        vertical-align: middle;\n",
       "    }\n",
       "\n",
       "    .dataframe tbody tr th {\n",
       "        vertical-align: top;\n",
       "    }\n",
       "\n",
       "    .dataframe thead th {\n",
       "        text-align: right;\n",
       "    }\n",
       "</style>\n",
       "<table border=\"1\" class=\"dataframe\">\n",
       "  <thead>\n",
       "    <tr style=\"text-align: right;\">\n",
       "      <th></th>\n",
       "      <th></th>\n",
       "      <th>math_score</th>\n",
       "    </tr>\n",
       "    <tr>\n",
       "      <th>school_type</th>\n",
       "      <th>grade</th>\n",
       "      <th></th>\n",
       "    </tr>\n",
       "  </thead>\n",
       "  <tbody>\n",
       "    <tr>\n",
       "      <th rowspan=\"4\" valign=\"top\">Charter</th>\n",
       "      <th>9</th>\n",
       "      <td>70.078</td>\n",
       "    </tr>\n",
       "    <tr>\n",
       "      <th>10</th>\n",
       "      <td>66.443</td>\n",
       "    </tr>\n",
       "    <tr>\n",
       "      <th>11</th>\n",
       "      <td>68.025</td>\n",
       "    </tr>\n",
       "    <tr>\n",
       "      <th>12</th>\n",
       "      <td>60.212</td>\n",
       "    </tr>\n",
       "    <tr>\n",
       "      <th rowspan=\"4\" valign=\"top\">Public</th>\n",
       "      <th>9</th>\n",
       "      <td>63.771</td>\n",
       "    </tr>\n",
       "    <tr>\n",
       "      <th>10</th>\n",
       "      <td>63.764</td>\n",
       "    </tr>\n",
       "    <tr>\n",
       "      <th>11</th>\n",
       "      <td>59.314</td>\n",
       "    </tr>\n",
       "    <tr>\n",
       "      <th>12</th>\n",
       "      <td>63.568</td>\n",
       "    </tr>\n",
       "  </tbody>\n",
       "</table>\n",
       "</div>"
      ],
      "text/plain": [
       "                   math_score\n",
       "school_type grade            \n",
       "Charter     9          70.078\n",
       "            10         66.443\n",
       "            11         68.025\n",
       "            12         60.212\n",
       "Public      9          63.771\n",
       "            10         63.764\n",
       "            11         59.314\n",
       "            12         63.568"
      ]
     },
     "execution_count": 24,
     "metadata": {},
     "output_type": "execute_result"
    }
   ],
   "source": [
    "school_budget_df = student_df.groupby([\"school_type\",\"grade\"]).mean()\n",
    "school_budget_df.loc[:,[\"math_score\"]].round(3)"
   ]
  },
  {
   "cell_type": "markdown",
   "id": "4774a8e7-7c3a-4957-9b41-11888a7ac1a9",
   "metadata": {},
   "source": [
    "# Deliverable 6: Summarize Your Findings\n",
    "In the cell below, write a few sentences to describe any discoveries you made while performing your analysis along with any additional analysis you believe would be worthwhile."
   ]
  },
  {
   "cell_type": "markdown",
   "id": "a69a6283-b498-4677-9a96-f75e0f01ebff",
   "metadata": {},
   "source": [
    "## Discoveries Made:\n",
    "1. The overall Reading Score is higher than the overall Math Score.\n",
    "2. Math Scores are higher in Charter Schools in comparison with Public Schools, while Reading Scores remain consistent.\n",
    "3. The allocated School Budget for Public Schools is higher than that for Charter Schools."
   ]
  },
  {
   "cell_type": "markdown",
   "id": "152b0023-5439-4827-b544-606c06e0d9d8",
   "metadata": {},
   "source": [
    "## Some more analysis:\n",
    "1. Analysis can be performed to count the no. of students and no. of schools in each type.\n",
    "2. Perform analysis to count no. of students in each grade in order to justify higher budget allocation in lower grades for Public schools."
   ]
  },
  {
   "cell_type": "code",
   "execution_count": null,
   "id": "e4204aa9-0530-4ddb-8aed-1c1d21d4865e",
   "metadata": {},
   "outputs": [],
   "source": []
  }
 ],
 "metadata": {
  "kernelspec": {
   "display_name": "PythonData",
   "language": "python",
   "name": "pythondata"
  },
  "language_info": {
   "codemirror_mode": {
    "name": "ipython",
    "version": 3
   },
   "file_extension": ".py",
   "mimetype": "text/x-python",
   "name": "python",
   "nbconvert_exporter": "python",
   "pygments_lexer": "ipython3",
   "version": "3.9.13"
  }
 },
 "nbformat": 4,
 "nbformat_minor": 5
}
